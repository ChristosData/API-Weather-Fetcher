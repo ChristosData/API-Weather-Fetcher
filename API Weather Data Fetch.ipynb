{
 "cells": [
  {
   "cell_type": "code",
   "execution_count": 39,
   "id": "259650c9",
   "metadata": {},
   "outputs": [],
   "source": [
    "import requests\n",
    "import datetime\n"
   ]
  },
  {
   "cell_type": "code",
   "execution_count": 82,
   "id": "04ef5b8d",
   "metadata": {},
   "outputs": [
    {
     "name": "stdout",
     "output_type": "stream",
     "text": [
      "Enter a city name: London\n",
      "Date: 04-04-2022 \n",
      "Weather: broken clouds\n",
      "Temperature: 13.68 celsius\n",
      "Min / Max Temp: 12.7 / 14.64 celsius\n",
      "Pressure: 1010\n",
      "Humidity: broken clouds\n",
      "Wind: 5.14\n",
      "Sunrise: 2022:04:04 06:29 AM\n",
      "Sunset: 19:37 PM\n"
     ]
    }
   ],
   "source": [
    "API_KEY = \"97b58e40c71a8d86be10596b62543f6d\"\n",
    "# endpoint URL where we're sending the request to\n",
    "BASE_URL = \"http://api.openweathermap.org/data/2.5/weather\"\n",
    "\n",
    "# Query parameters\n",
    "city = input(\"Enter a city name: \")\n",
    "# Look for the data associated with the city that the user types in\n",
    "request_url = f\"{BASE_URL}?appid={API_KEY}&q={city}&units=metric\"\n",
    "# GET request to retrieve data from the request URL\n",
    "response = requests.get(request_url)\n",
    "\n",
    "if response.status_code == 200:\n",
    "    data = response.json()\n",
    "    weather = data['weather'][0]['description']\n",
    "    temperature = data[\"main\"][\"temp\"]\n",
    "    min_temp = data['main']['temp_min']\n",
    "    max_temp = data['main']['temp_max']\n",
    "    pressure = data['main']['pressure']\n",
    "    humidity = data['main']['humidity']\n",
    "    wind = data['wind']['speed']\n",
    "    sunrise = data['sys']['sunrise']\n",
    "    sunset = data['sys']['sunset']\n",
    "    \n",
    "    #converting UNIX timestamp to datetime for sunrise / sunset\n",
    "    sunrisetime = datetime.datetime.fromtimestamp(\n",
    "        (sunrise)\n",
    "    ).strftime('%Y:%m:%d %H:%M %p')\n",
    "        \n",
    "    sunsettime = datetime.datetime.fromtimestamp(\n",
    "        (sunset)\n",
    "    ).strftime('%H:%M %p')\n",
    "    \n",
    "    date = datetime.datetime.fromtimestamp(\n",
    "        (sunrise)\n",
    "    ).strftime('%d-%m-%Y ')\n",
    "   \n",
    "    #print values\n",
    "    print(\"Date:\", date) \n",
    "    print(\"Weather:\", weather) \n",
    "    print(\"Temperature:\", temperature, \"celsius\")\n",
    "    print(\"Min / Max Temp:\", min_temp, \"/\", max_temp, \"celsius\")\n",
    "    print(\"Pressure:\", pressure)\n",
    "    print(\"Humidity:\", weather)\n",
    "    print(\"Wind:\", wind)\n",
    "    print(\"Sunrise:\", sunrisetime)\n",
    "    print(\"Sunset:\", sunsettime)\n",
    "  \n",
    "else:\n",
    "    print(\"An error occurred.\")\n",
    "\n",
    "    \n",
    "#Further development idea: create a GUI using tkinter library for a visually appealing format  \n"
   ]
  },
  {
   "cell_type": "code",
   "execution_count": null,
   "id": "96960b0a",
   "metadata": {},
   "outputs": [],
   "source": []
  }
 ],
 "metadata": {
  "kernelspec": {
   "display_name": "Python 3 (ipykernel)",
   "language": "python",
   "name": "python3"
  },
  "language_info": {
   "codemirror_mode": {
    "name": "ipython",
    "version": 3
   },
   "file_extension": ".py",
   "mimetype": "text/x-python",
   "name": "python",
   "nbconvert_exporter": "python",
   "pygments_lexer": "ipython3",
   "version": "3.9.7"
  }
 },
 "nbformat": 4,
 "nbformat_minor": 5
}
